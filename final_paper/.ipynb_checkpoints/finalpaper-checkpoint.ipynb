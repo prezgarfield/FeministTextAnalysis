{
 "cells": [
  {
   "cell_type": "markdown",
   "metadata": {},
   "source": [
    "# Academic Introduction to Feminist Methods of Text Analysis\n",
    "\n",
    "- Student Name:James R. Garfield\n",
    "- Date: 12/20/2019\n",
    "- Assignment Due: Final Paper\n",
    "- Instructor: Lisa Rhody\n",
    "- Methods of Text Analysis, Fall 2019"
   ]
  },
  {
   "cell_type": "markdown",
   "metadata": {},
   "source": [
    "## Part 0 -- An Introduction\n",
    "\n",
    "Computational Text Analysis often gives the impression of building curves out of tangents.  Much like vector graphics, the farther away one is, or the higher the resolution, the more like a real curve it seems.  Computation, as we have explored it this semester, delivers determined results from determined inputs.  Its paradigm is “a mind of winter”, full of facts and empty of meaning.  When we move in closely, we see not only stark exceptions that a computational process can smooth over as “error”, but also the limitations and assumptions of the static algorithms themselves.  As Kolodny writes, “Insofar as we are taught how to read, what we engage are not texts but paradigms.”  What are the paradigms of computational analysis?  Can these paradigms align with feminist criticism?  \n"
   ]
  },
  {
   "cell_type": "markdown",
   "metadata": {},
   "source": [
    "![Tangent](tangents1.png)"
   ]
  },
  {
   "cell_type": "markdown",
   "metadata": {},
   "source": [
    "## Part 1 -- Troubling the Distance\n",
    "\n",
    "Early in the semester, the importance of the felt, lived experience in a feminist perspective was stressed.  Marcela mentioned in one of our first discussions that “my feminism starts with the phenomenological” (not an exact quote).  Nancy Miller treated questions of perspective in *Re-reading as a Woman*, exemplifying how hegemonic perspectives fully overlap cultural expectation -- that we are expected to write and read as men within a paradigm that causes alternative perspectives to raise suspicion even in those that have them.  She asserts that re-reading as a woman is a fundamental movement in the process of reaching for an inclusive vision of the text: \n",
    "\n",
    ">A third reading might wish instead to reevaluate the reciprocities of sexual and scriptional practices, and rethink a metaphorics of writing and reading that figures, and at the same time paradoxically grounds, \"woman\" as material support for a masculine self-celebration; a metaphorics that specularizes double entendre - which we might freely understand as the trope of interpretation itself - as the couple man/woman (man over woman) and fetishizes the superscription of the masculine. (Miller 297)\n",
    "\n",
    "Mary Beard extrudes this idea with the provocation that there need to be strong alternatives to hegemonic views, “To put this the other way round, we have no template for what a powerful woman looks like, except that she looks rather like a man….  Weakness comes with a female gender.”  (Beard)\n",
    "\n",
    "Juxtaposed to initial readings in feminist theory and explorations of the epistemology of texts, were our early natural language processing (NLP) exercises.  We were introduced to the bag of words approach to text preparation; while the epistemology of computational “understanding” of language was brought into relief.  The strengths of computation -- counting, categorizing, deconstructing -- were counterposed to NLP’s semantic ignorance.  "
   ]
  },
  {
   "cell_type": "code",
   "execution_count": 21,
   "metadata": {},
   "outputs": [
    {
     "name": "stdout",
     "output_type": "stream",
     "text": [
      "['the', 'little', 'ones', 'grow', 'up', 'to', 'be', 'poisonous', '.', 'the', 'insistent', 'plodding', 'has', 'no', 'clear', 'purpose', '.', 'wave', 'patterns', 'inscribe', 'the', 'average', 'of', 'history', '.', 'answers', 'blows', 'across', 'the', 'kitchen', 'table', '.', 'frozen', 'stone', 'cools', 'the', 'buttocks']\n"
     ]
    }
   ],
   "source": [
    "import nltk\n",
    "from nltk import word_tokenize\n",
    "\n",
    "with open('museum.txt','r') as file:\n",
    "   museum = file.read()\n",
    "\n",
    "mus_words = nltk.word_tokenize(museum)\n",
    "concordance_txt = nltk.Text(mus_words)\n",
    "\n",
    "print(mus_words[3:40])\n"
   ]
  },
  {
   "cell_type": "markdown",
   "metadata": {},
   "source": [
    "Only in the case of concordance was “context” shown to be of computational interest in our early course modules on NLP.  And I would call this a “blind” context where again a computational method attempts to align with what is meaningful to us by delivering our requested amount of characters around a found term as a proxy for context."
   ]
  },
  {
   "cell_type": "code",
   "execution_count": 22,
   "metadata": {
    "scrolled": true
   },
   "outputs": [
    {
     "name": "stdout",
     "output_type": "stream",
     "text": [
      "Displaying 10 of 34 matches:\n",
      "pression of a single phenomenon . the fly 's name is midge . light tinsels the \n",
      "drinking glasses lack emptiness . the fly is crushed by a whistle . rice fogs t\n",
      "lms the watermelon . Chapter : 40 the fly rubs its forelegs on an arm hair . a \n",
      "hornets hover face to face . the deer fly alights on an eyebrow . a glass of mi\n",
      "lure . the spiders seem to hover in a fly cloud . snow breaks at the gutter lin\n",
      "stone is primarily empty space . viri fly off in the phlegm . each of the entit\n",
      "he housefly rubs its legs . the cloth fly sticks to coffee 's surface . the two\n",
      "and off . the vent shafts sweat . the fly occupies a pixel . reflections margin\n",
      "the litter box . the spider annexes a fly . the phone pulses blue with new acti\n",
      "through neurons is also audible . the fly bears an anteater 's proboscis . whit\n"
     ]
    }
   ],
   "source": [
    "#concordance code \n",
    "concordance_txt.concordance(\"fly\", width=80, lines=10)"
   ]
  },
  {
   "cell_type": "markdown",
   "metadata": {},
   "source": [
    "And so the triple perspective space of the Millerian text (writer, reader, interpreter) and the “double-entendre” of the language itself, its implicit irony, is further disrupted by the presence of computation.  When the felt and lived, which is the purview of the humanities, is subjected to quantitative analysis, a distance is created which troubles all humanistic inquiry, raising suspicion with regard to what is lost or destroyed in the de-prioritization of the close, human bond between writer, reader and interpreter.  As Jerome McGann writes, “These elective affinities between love and textuality exist because love and text are two of our most fundamental social acts.” (McGann 3-4)\n",
    "    \n",
    "Natalie Houston sees this problem as an opportunity.  To her mind, the scene of close reading is already troubled by hegemonic norms:\n",
    " \n",
    ">A critical practice based on close reading will bring with it assumptions about the value of each individual text as an organic whole and as representative exemplar. A feminist computational criticism explores what it would mean to disrupt the norm of close interpretive reading, asking how feminist literary inquiry might proceed without producing a traditional interpretation of a text. (Houston 252)\n",
    "\n",
    "*Distant Reading and Victorian Women’s Poetry* was one of the most sanguine of our readings with respect to the possibility of a feminist text analysis.  In Houston’s view, or at least her invocation of Annette Kolodny’s, the tradition of close reading is in need of some “disruption”.  Examining literary history through computational means, not only brings up the advantage of the computer’s ability to process large amounts of data much faster than the human mind, but allows us to answer Kolodny’s “call to examine our literary histories, critical paradigms, and theoretical biases….” (Houston 251) \n",
    "    \n",
    "Whether replacing the “fiction” of literary history with further fictions is naive, disruptive and/or visionary is up for debate.  Certainly her criticisms of New Critical approaches to close reading -- especially the denial of text’s historicity -- are appropriate and in alignment with the importance of context in feminist approaches.  \n",
    "    \n",
    "When projects are engaged, however, clear issues arise that computation does not solve.  For example, the availability, cost and accessibility of data has a significant impact on what can be studied and, thus, what can be said of what is studied.  The study of Victorian prose literature might be enhanced by well-caveated and transparently documented computational analysis, but what of other historical eras where there is less data and less certainty about how representative said data is?\n",
    "    \n",
    "Clearly, there are limitations to what can be studied even without the participation of quantitative/computational approaches.  There is a tendency to embrace what Laura Mandell refers to as “naive empiricism” however when making claims of objectivity in large corpora distant reading projects.  Lauren Klein’s *The Image of Absence* might be one of the most eloquent counterpoints to the idea of reading “what is there” as “what there is”, but even her inventive use of technology to highlight, visualize and memorialize the significance of what is absent can not be termed “distant reading”, with the latter’s emphasis on overwhelming corpus size.\n",
    "    \n",
    "That said, the promise is out there that there are hidden patterns in texts and, especially, over large corpora of texts that the ability of computers to address data at scale might be able to reveal where human effort has not.  And this promise is rightly identified by Houston as of potentially significant value to feminist critics -- those who pursue “the critical examination of the entwined structures of gender and power in literature written by both female and male writers.” (Houston 249)\n"
   ]
  },
  {
   "cell_type": "markdown",
   "metadata": {},
   "source": [
    "## Part 2 -- Troubling the Closeness\n",
    "\n",
    "Another troubling thread that raised itself into high relief over the course of the semester was the issue brought up by Sarah Ahmed et al. implicitly in *Transformations*.  The introduction highlights the extremely federated communities that make up the larger “Feminist” meta-community as well as the necessarily disparate views from within this meta-community on the approaches and stances that feminism *should* take with regard to effecting and assessing positive change in the world:\n",
    "\n",
    ">Finally, we reflect on how the question of transformation is not simply one posed  feminism, but also a question which can be posed to feminism: we consider how feminism itself must constantly be challenged and transformed by the conflicts and divisions between women who identify with it. Questioning feminism by thinking through transformations is also about reflecting on how feminism becomes mobilised as a politics and how ‘we’ can understand the investments that make it possible to speak of feminism as a ‘we’ at all. (Ahmed 4)\n",
    "\n",
    "The resistance of feminism as a movement to stasis and umbrella definition stands in stark metaphorical contrast to the facade of determinism, essentialism, hierarchy, linearity and categorical stiffness that computational approaches come with premade.      \n",
    "It is a challenge to imagine a feminist text analysis that responds to the fluidity of gender representation within feminism, for example, while leaving itself open to the possibility of repeated reimagining.  The sheer number of viewpoints in our own classroom points to the richness and multifacetedness of what could be called “feminist”.  There is both beauty and terror in truly open, tolerant, egalitarian social and theoretical movements -- as well as an inherent instability.  What a computer needs to process, however, is stability.  Whatever qualifies as stable input thus constitutes a snapshot of a partiality -- a frozen moment from a specific angle -- at best.  The computer cannot parse and shift between paradigms well, either, so relying on its processes to represent a feminist approach is a fraught enterprise.  \n",
    "    \n",
    "The introduction of Laura Mandell’s current project marked a change in the course for me, however.  Mandell’s project is to explore the construction of gender.  Her “angle” is to associate characters (in a series of Victorian novels) to what they do, to build new gender categories based on activity rather than viewing activity through the lens of predetermined gender categories.  And the process her team employs is one that creates data from a discourse analysis-like process of human annotation.  In the initial stages, the digital tool used serves merely to catalyze the traditional process of annotation rather than automate it.   Human readers move through the texts annotating passages, associating them with characters and assigning them activity categories.  Because close reading is invoked to generate the data to be analyzed, the data and categorizations of it start from the warmth of human intention.   "
   ]
  },
  {
   "cell_type": "markdown",
   "metadata": {},
   "source": [
    "![catma](catma.png)"
   ]
  },
  {
   "cell_type": "markdown",
   "metadata": {},
   "source": [
    "Approaches like this are promising as a way to conduct humanistic text analysis because they allow the “suspect counting” of quantitative analysis to be always of objects valued and re-valued self-consciously by a human being.  This, of course, does not prevent the introduction of bias or essentialist conceit -- nothing does -- but it proceeds consciously, and lessens the presence of opacity.  ““Dynamically reading, generating, and analyzing numbers are essential to making interpretive quantification possible and thus to exploring how the M/F binary is constituted in any given historical moment.\" (Mandell) In short, the process itself remains responsive to iteration; while the tool supports an environment where taxonomies and assignation are elastic, and elements can belong in multiple categories. \n"
   ]
  },
  {
   "cell_type": "markdown",
   "metadata": {},
   "source": [
    "## Part 3 -- Untroubling the Unsupervised\n",
    "\n",
    "Topic modeling is a technique that also shows promise by doing almost the exact opposite of what Mandell’s approach does.  Where Mandell and her group lead with close reading, topic modeling leads with a radical distance -- seeking to remove human discrimination from and thus de-bias the discovery of patterns and categories within the corpora to which it is applied.  \n",
    "\n",
    "The predominant topic modeling algorithm LDA operates by taking as inputs a set of texts defined as separate documents, and a human-determined number of categorical bins.  It then tokenizes all the words in each document -- being careful to strip out what the investigator deems to be \"noise\" -- and begins an iterative process of calculating the likelihood of each word being found with each other word in any of the documents.  The highest probability matches then begin to cluster into the bins.  The process requires that the investigator have a good feel for both the number of bins (topics) a process requires and the number of calculation iterations will result in a stable and significant set of topics.  \n"
   ]
  },
  {
   "cell_type": "markdown",
   "metadata": {},
   "source": [
    "As Lisa Rhody explores in *Topic Modeling and Figurative Language*, the patterns stirred up by LDA-generated “topics” are useful and significant in relation to the type of text they are applied to. More highly figurative text requires different approaches to find significance.  Rhody, in the end, comes to similar conclusions to a lot of the researchers we have encountered over the semester, that computational text analysis in literature works best when combined with discipline mastery and attendant close reading.  The computational techniques shape and suggest the direction of closer inspection.  \n",
    "\n",
    ">Searching for thematic coherence in topics formed from poetic corpora would prove disappointing since topic keyword distributions in a thematic light appear at first glance to be riddled with “intrusions.” However, by understanding topics as forms of discourse that must be accompanied by close readings of poems in each topic, researchers can make use of a powerful tool with which to explore latent patterns in poetic texts. (Rhody)\n",
    "\n",
    "Significance is in no way guaranteed by topic modeling.  And, in the end, nothing radical can be concluded from the resulting topics alone; context and text genre are significant inputs into how to \"read\" resulting topics.  Rather, the promise of the technique for the purposes of feminist text analysis is that it strips the interference of human discrimination from the evolution of patterns.  There is the potential that topic modeling can surface patterns our conditioning prevents us from seeing -- indeed, that perhaps we can be shaken up by what was hidden under our noses.  This kind of \"unsettling\" seems to parallel the egalitarianizing impulse of feminist theory."
   ]
  },
  {
   "cell_type": "markdown",
   "metadata": {},
   "source": [
    "## Part 4 -- Opinions Rendered Fuzzily\n",
    "\n",
    "In her 2019 provocation “The Digital Humanities Debacle”, Nan Z. Da brings up what she sees as crucial issues surrounding the way “Computational Literary Studies” have been conducted.  While her focus is often on how poorly DH efforts have aligned with social science methodologies, she does lay out some serious challenges for text analysis in general: \n",
    "\n",
    ">Definitionally, you can measure anything in textual form — with a measurement error. The question is whether that error matters….  The point is that it is extremely hard, if not impossible, to train an algorithm to recognize a metaphor or accurately parse a line of poetry. These tasks involve problems in computer science and computational linguistics that approach the upper bounds of difficulty in those disciplines — but still approach only the lower bounds of difficulty in literary studies. (Da)\n",
    "\n",
    "Over the course of this semester, my thoughts on the possibility of a feminist text analysis have been haunted by the concern that literary text analysis itself is an unproven enterprise -- that it struggles in the ways Da elucidates.  I have frequently fallen back to the facile answer that feminist text analysis is important as a corrective approach to text analysis, i.e. that it offers a cure to the ills its umbrella activity suffers, both within literary studies and without.    \n",
    "    \n",
    "It is true that reliance on computation endangers reinscription and/or reification of pre-existing gender bias and the socio-cultural norms that oppress.  But it does so in ways that are not significantly different from other oppressive avenues.  In other words, danger tends to follow from the assumption, to invoke Nancy Miller again, that dominant views are the only legitimate ones.  With data properly addressed in its limitations and distortions, and the paradigms of computational methods properly understood and made transparent, discussion of computational text analysis projects would seem to offer very similar pitfalls and promises to other discourse that does not does not depend on quantitative methods.  In other words, being transparent in the choice of corpora and the corresponding state of the included texts (what is represented in presence and absence), critiquing one's own approach, prejudices and potential biases, being circumspect about what conclusions can be drawn, are as appropriate in computational analysis as in traditional humanistic reading.\n",
    "    \n",
    "A feminist text analysis would certainly include these basics; and, further, would employ them in order to enrich and critique, rather than nullify, conclusions, to create new vectors of inquiry and discussion, and to privilege exploration over social science’s testing of hypotheses and implicit claims of objectivity.  A feminist text analysis might see conclusions as \"troubling\" existing discourse rather than as candidates for new dominant truths.\n",
    "\n",
    "As an educated, middle-aged, white man brought up on 1980s feminism, I have never been required by circumstance to engage in a struggle with the issues contemporary feminist theory treats as a struggle for life and self; I have been engaged necessarily only from a sense of deontological morality and solidarity throughout.  Thus, I am certain that I am in no position to *prescribe* the activity of feminist text analysis.  I do hold to one opinion -- humbly, with as much certainty as anything left to me after so many years of close experience with the slipperiness of stable truth -- however, that nothing gets fully understood without engaging with it actively -- with doing it. Nothing new and valuable happens without the expectation of repeated failure while honing in on proximal success.  Just as Jerome McGann points out with respect to the life of a text, no product of analysis will maintain a stable relationship to truth under scrutiny, \"The textual condition's only immutable law is the law of change.\" (McGann 9)\n",
    "\n",
    "The best answer I can provide, then, is, given that there is enough proximal value in the examples we have studied in class and outside of it this semester, and little enough solid evidence of inevitable doom, I see no reason that the effort to work *as if* should not continue.\n"
   ]
  },
  {
   "cell_type": "markdown",
   "metadata": {},
   "source": [
    "## References:\n",
    "\n",
    "* Ahmed, Sarah, Jane Kilby, Celia Lury, Maureen McNeil, and Beverly Skeggs. “Introduction: Thinking Through Feminism.” Transformations : Thinking Through Feminism, edited by Sarah Ahmed, et al., Routledge, 2000. ProQuest Ebook Central\n",
    "\n",
    "* Beard, Mary. \"Women & Power: A Manifesto\", London Review of Books, volume 39 no. 6, March 2017.\n",
    "\n",
    "* Da, Nan Z., \"The Digital Humanities Debacle\". Chronicle of Higher Education. March, 2019.\n",
    "\n",
    "* Houston, Natalie. “Distant Reading and Victorian Women’s Poetry.” Hughes, Linda K., editor. “Reading Victorian Women’s Poetry.” The Cambridge Companion to Victorian Women’s Poetry, Cambridge University Press, Cambridge, 2019, pp. 247–265. Cambridge Companions to Literature.\n",
    "\n",
    "* Klein, Lauren F. \"The Image of Absence: Archival Silence, Data Visualization, and James Hemings\". American Literature, Volume 85 Issue 4, 2013, pp. 661-688.\n",
    "\n",
    "* Kolodny, Annette. “Dancing Through the Minefield: Some Observations on the Theory, Practice, and Politics of a Feminist Literary Criticism”. Showalter, Elaine, editor. \"The New Feminist Criticism: Essays on Women, Literature, and Theory\". Pantheon, New York, 1985. pp. 144–67.\n",
    "\n",
    "* Mandell, Laura. “Gender and Cultural Analytics: Finding or Making Stereotypes?” Debates in the Digital Humanities. Eds. Matthew K. Gold and Lauren Klein. Minnesota: U of Minn Press, 2019. \n",
    "\n",
    "* McGann, Jerome J. The Textual Condition. Princeton, N.J.: Princeton UP, 1991. Print. Princeton Studies in Culture/power/history.\n",
    "\n",
    "* Nancy K. Miller, “Re-reading as Woman: The Body in Practice”. Poetics Today, Vol. 6, No. 1/2, The Female Body in Western Culture: SemioticPerspectives, 1985, pp. 291-299.\n",
    "\n",
    "* Rhody, Lisa. \"Topic Modeling and Figurative Language\". Journal of Digital Humanities, Volume 2 No. 1, 2012."
   ]
  },
  {
   "cell_type": "code",
   "execution_count": null,
   "metadata": {},
   "outputs": [],
   "source": []
  }
 ],
 "metadata": {
  "kernelspec": {
   "display_name": "Python 3",
   "language": "python",
   "name": "python3"
  },
  "language_info": {
   "codemirror_mode": {
    "name": "ipython",
    "version": 3
   },
   "file_extension": ".py",
   "mimetype": "text/x-python",
   "name": "python",
   "nbconvert_exporter": "python",
   "pygments_lexer": "ipython3",
   "version": "3.7.1"
  }
 },
 "nbformat": 4,
 "nbformat_minor": 2
}
