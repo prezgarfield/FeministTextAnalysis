{
 "cells": [
  {
   "cell_type": "markdown",
   "metadata": {},
   "source": [
    "# Week 8 Jupyter Notebook Assignment\n",
    "## Programming Historian: Introduction to stylometry with Python"
   ]
  },
  {
   "cell_type": "markdown",
   "metadata": {},
   "source": [
    "* Student Name: Rob Garfield\n",
    "* Date: 10/28/19\n",
    "* Instructor: Lisa Rhody\n",
    "* Assignment due: 10/29/19 \n",
    "* Methods of Text Analysis\n",
    "* MA in DH / MS in Data Analysis and Visualization at The Graduate Center, CUNY"
   ]
  },
  {
   "cell_type": "markdown",
   "metadata": {},
   "source": [
    "## Preparing for this week - Conceptualization\n",
    "This week's assignment is going to veer more toward the technical than other weeks. We are going to read about a type of sylometric analysis called authorship attribution, and we're going to work through one of the most common authorship attribution tests in DH. There are questions to consider as you work through the exercise. Please read Patrick Juola _Authorship Attribution_ pages 233-271 before beginning this exercise. (Note: You will not understand all of it, especially the math. That's ok. The point here isn't to absorb all of it, but to get a sense of what features are being measured and what that measurement might consist of.) Next, complete this activity. When you are done going through this workbook, then read the Koolen and vanCranenburgh. Return to this notebook and insert 2 comments using markdown cells that show potential connections between Koolen and van Cranenburg's article and the work you've done here. \n",
    "\n",
    "Remember, next week Laura Mandell will be visiting us in class for the first half of next week, so you will want to quickly review her article, as well. There are intersections between her article, this activity, and the readings, as well.  "
   ]
  },
  {
   "cell_type": "markdown",
   "metadata": {},
   "source": [
    "### The following notebook is much indebted to and grateful for Programming Historian, and in particular, François Dominic Laramée. \n",
    "François Dominic Laramée, \"Introduction to stylometry with Python,\" The Programming Historian 7 (2018), https://programminghistorian.org/en/lessons/introduction-to-stylometry-with-python."
   ]
  },
  {
   "cell_type": "markdown",
   "metadata": {},
   "source": [
    "### The assignment\n",
    "This week, you will be working through one of the most common authorship attribution activities: Assessing the likely authorship of the disputed essays in _The Federalist Papers_. As you do so, consider the readings that you have done and how they come into conversation with the methods in this activity. The assignment will work through three different approaches to the same question using 3 different assumptions about language and measuring. You may work together to run the cells of the notebooks, but individual assignments should be completed individually. "
   ]
  },
  {
   "cell_type": "markdown",
   "metadata": {},
   "source": [
    "Your comments should reflect your consideration of what is happening functionally and theoretically throughout each experiment. Consider the following questions to help you get started: \n",
    "* Why did the author pick this particular dataset? \n",
    "* What about the selection of the dataset makes sense? What does the selection of data tell us about the kind of questions the authors expect users to have about their data? \n",
    "* What are the assumptions that underlie the methods of each approach to authorship attribution? \n",
    "* Are there gendered inflections to these approaches? How so or why not? (Be sure to point to a specific cell. Give evidence from a secondary source to support your point of view.)\n",
    "* How does the result of each experiment \"answer\" the question at hand? What appeal does the article make toward the authority or correctness of the answer? \n",
    "* What considerations about topic, location, or other frequent signaling words has the author given? How does this relate to Juola's introduction? \n",
    "* What is the signifcance of this as one of the primary examples of authorship attribution analysis? Why might we want to consider an example like this in a course focusing on feminist text analysis? "
   ]
  },
  {
   "cell_type": "markdown",
   "metadata": {},
   "source": [
    "### Directions: \n",
    "* To complete this lesson, go to the Programming Historian Lesson: [Introduction to sylometry with Python by François Dominic Laramée](https://programminghistorian.org/en/lessons/introduction-to-stylometry-with-python#calculating-features-and-z-scores-for-our-test-case) using your web browser. Keep this notebook page open on one side of your monitor and follow along with the Programming Historian lesson on the other side of your screen/monitor. \n",
    "* Download the zip file in the section titled [The Dataset](https://programminghistorian.org/en/lessons/introduction-to-stylometry-with-python#the-dataset). \n",
    "* Note: This Jupyter Notebook should be saved in the same folder as your Dataset folder.  \n",
    "* The nltk.download('punkt') step may be overkill, but don't worry if it is. I think we have already downloaded it. \n",
    "* Add new cells above and below the cells you are annotating and type your annotations in mark down. \n",
    "* When you are done, you will need to submit a PDF copy of your notebook assignment. (You can produce a copy of your assignment by going to File --> Print Preview --> Save As --> PDF.) \n",
    "* Alternately, name your file with your last name and the date, and then send a copy to me before the start of class. \n",
    "\n"
   ]
  },
  {
   "cell_type": "markdown",
   "metadata": {},
   "source": [
    "## Historical Context"
   ]
  },
  {
   "cell_type": "markdown",
   "metadata": {},
   "source": [
    "As Patrick Juola writes: \"Authorship Attribution is about ownership of words.\" What is at stake when we embark upon a process of trying to assign ownership to words? "
   ]
  },
  {
   "cell_type": "markdown",
   "metadata": {},
   "source": [
    "*RG -- first off, the choice of \"assign ownership to words\" is fraught. It's fraught in that the words themselveshave no value outside of \"an ordered stream of separate “events” drawn from a population of potential events\"[Juola] There is nothing to own. to have authorship on the other hand of a specific stream in a specific contextcan be extremely important. E.g. in a legal context, if an author of a document can be ascertained, legal truthvalue can be applied. Or the case of the Hitler diaries. Although there is less at stake in literary attribution, therecan be ramifications in, for example, the realm of gendering attribution -- knowing the author's gender canchange the reader's expectations."
   ]
  },
  {
   "cell_type": "markdown",
   "metadata": {},
   "source": [
    "## Data Import and Preparation"
   ]
  },
  {
   "cell_type": "code",
   "execution_count": 1,
   "metadata": {
    "scrolled": true
   },
   "outputs": [
    {
     "name": "stderr",
     "output_type": "stream",
     "text": [
      "[nltk_data] Downloading package punkt to\n",
      "[nltk_data]     C:\\Users\\robcc\\AppData\\Roaming\\nltk_data...\n",
      "[nltk_data]   Package punkt is already up-to-date!\n"
     ]
    }
   ],
   "source": [
    "import nltk\n",
    "nltk.download('punkt')\n",
    "import matplotlib"
   ]
  },
  {
   "cell_type": "code",
   "execution_count": 2,
   "metadata": {},
   "outputs": [],
   "source": [
    "papers = {\n",
    "    'Madison': [10, 14, 37, 38, 39, 40, 41, 42, 43, 44, 45, 46, 47, 48],\n",
    "    'Hamilton': [1, 6, 7, 8, 9, 11, 12, 13, 15, 16, 17, 21, 22, 23, 24, \n",
    "                 25, 26, 27, 28, 29, 30, 31, 32, 33, 34, 35, 36, 59, 60,\n",
    "                 61, 65, 66, 67, 68, 69, 70, 71, 72, 73, 74, 75, 76, 77, \n",
    "                 78, 79, 80, 81, 82, 83, 84, 85],\n",
    "    'Jay': [2, 3, 4, 5],\n",
    "    'Shared': [18, 19, 20],\n",
    "    'Disputed': [49, 50, 51, 52, 53, 54, 55, 56, 57, 58, 62, 63],\n",
    "    'TestCase': [64]\n",
    "}\n"
   ]
  },
  {
   "cell_type": "code",
   "execution_count": 3,
   "metadata": {},
   "outputs": [],
   "source": [
    "# A function that compiles all of the text files associated with a single author into a single string\n",
    "def read_files_into_string(filenames):\n",
    "    strings = []\n",
    "    for filename in filenames:\n",
    "        with open(f'federalist_{filename}.txt') as f:\n",
    "            strings.append(f.read())\n",
    "    return '\\n'.join(strings)"
   ]
  },
  {
   "cell_type": "code",
   "execution_count": 4,
   "metadata": {},
   "outputs": [],
   "source": [
    "# Make a dictionary out of the authors' corpora\n",
    "federalist_by_author = {}  \n",
    "for author, files in papers.items():\n",
    "    federalist_by_author[author] = read_files_into_string(files)"
   ]
  },
  {
   "cell_type": "code",
   "execution_count": 5,
   "metadata": {
    "scrolled": false
   },
   "outputs": [
    {
     "name": "stdout",
     "output_type": "stream",
     "text": [
      " 10\n",
      "\n",
      "The Same Subject Continued (The Union as a Safeguard Against Domestic\n",
      "Faction and Insurrection)\n",
      " 1\n",
      "\n",
      "General Introduction\n",
      "\n",
      "For the Independent Journal. Saturday, October 27, 1787\n",
      "\n",
      "\n",
      "HAMILTON\n",
      "\n",
      "To the\n",
      " 2\n",
      "\n",
      "Concerning Dangers from Foreign Force and Influence\n",
      "\n",
      "For the Independent Journal. Wednesday, Oct\n",
      " 18\n",
      "\n",
      "The Same Subject Continued (The Insufficiency of the Present\n",
      "Confederation to Preserve the Unio\n",
      " 49\n",
      "\n",
      "Method of Guarding Against the Encroachments of Any One Department of\n",
      "Government by Appealing t\n",
      " 64\n",
      "\n",
      "The Powers of the Senate\n",
      "\n",
      "From The Independent Journal. Wednesday, March 5, 1788.\n",
      "\n",
      "JAY\n",
      "\n",
      "To the \n"
     ]
    }
   ],
   "source": [
    "for author in papers: \n",
    "    print(federalist_by_author[author][:100])"
   ]
  },
  {
   "cell_type": "markdown",
   "metadata": {},
   "source": [
    "## First Stylometric Test: Mendenhall's Characteristic Curves of Composition"
   ]
  },
  {
   "cell_type": "markdown",
   "metadata": {},
   "source": [
    "What is being measured? How? What assumptions are translated into measurable functions? \n",
    "\n",
    "*RG -- the distribution of word lengths across each author's text.  The key assumption is this distribution is consistent across an author's opus, thus forming a part of their stylistic \"fingerprint\"."
   ]
  },
  {
   "cell_type": "code",
   "execution_count": 6,
   "metadata": {
    "scrolled": false
   },
   "outputs": [
    {
     "data": {
      "image/png": "[encoded data removed]",
      "text/plain": [
       "<Figure size 432x288 with 1 Axes>"
      ]
     },
     "metadata": {
      "needs_background": "light"
     },
     "output_type": "display_data"
    },
    {
     "data": {
      "image/png": "[encoded data removed]",
      "text/plain": [
       "<Figure size 432x288 with 1 Axes>"
      ]
     },
     "metadata": {
      "needs_background": "light"
     },
     "output_type": "display_data"
    },
    {
     "data": {
      "image/png": "[encoded data removed]",
      "text/plain": [
       "<Figure size 432x288 with 1 Axes>"
      ]
     },
     "metadata": {
      "needs_background": "light"
     },
     "output_type": "display_data"
    },
    {
     "data": {
      "image/png": "[encoded data removed]",
      "text/plain": [
       "<Figure size 432x288 with 1 Axes>"
      ]
     },
     "metadata": {
      "needs_background": "light"
     },
     "output_type": "display_data"
    },
    {
     "data": {
      "image/png": "[encoded data removed]",
      "text/plain": [
       "<Figure size 432x288 with 1 Axes>"
      ]
     },
     "metadata": {
      "needs_background": "light"
     },
     "output_type": "display_data"
    }
   ],
   "source": [
    "%matplotlib inline\n",
    "\n",
    "# Compare the disputed papers to those written by everyone, \n",
    "# including the shared ones. \n",
    "authors = (\"Hamilton\", \"Madison\", \"Disputed\", \"Jay\", \"Shared\")\n",
    "\n",
    "# Transform the authors' corpora into lists of word tokens\n",
    "federalist_by_author_tokens = {}\n",
    "federalist_by_author_length_distributions = {}\n",
    "for author in authors:\n",
    "    tokens = nltk.word_tokenize(federalist_by_author[author])\n",
    "    \n",
    "    # Filter out punctuation\n",
    "    federalist_by_author_tokens[author] = ([token for token in tokens \n",
    "                                            if any(c.isalpha() for c in token)])\n",
    "   \n",
    "    # Get a distribution of token lengths\n",
    "    token_lengths = [len(token) for token in federalist_by_author_tokens[author]]\n",
    "    federalist_by_author_length_distributions[author] = nltk.FreqDist(token_lengths)\n",
    "    federalist_by_author_length_distributions[author].plot(15,title=author)     "
   ]
  },
  {
   "cell_type": "markdown",
   "metadata": {},
   "source": [
    "## Second Stylometric Test: Kilgariff's Chi-Squared Method"
   ]
  },
  {
   "cell_type": "markdown",
   "metadata": {},
   "source": [
    "What is a probability distribution? What does \"distance\" mean in the way that it is used here? Pay particular attention to the bulleted explanation of how the statistic is applied. In the following section, the code is all written together. See if you can comment out what is happening at each stage and why it matters. \n",
    "\n",
    "*RG -- probability distribution is just the chance of various outcomes.  \"Distance\" here, I think means how much one text differs from a compound text based on the frequency (counts) of the most used words.  The shorter the distance (smaller the number) the more likely that the two works share an author. "
   ]
  },
  {
   "cell_type": "code",
   "execution_count": 8,
   "metadata": {},
   "outputs": [
    {
     "name": "stdout",
     "output_type": "stream",
     "text": [
      "The Chi-squared statistic for candidate Hamilton is 3434.6850314768426\n",
      "The Chi-squared statistic for candidate Madison is 1907.5992915766838\n"
     ]
    }
   ],
   "source": [
    "# Who are the authors we are analyzing?\n",
    "authors = (\"Hamilton\", \"Madison\")\n",
    "\n",
    "# Lowercase the tokens so that the same word, capitalized or not,\n",
    "# counts as one word\n",
    "for author in authors:\n",
    "    federalist_by_author_tokens[author] = (\n",
    "        [token.lower() for token in federalist_by_author_tokens[author]])\n",
    "federalist_by_author_tokens[\"Disputed\"] = (\n",
    "    [token.lower() for token in federalist_by_author_tokens[\"Disputed\"]])\n",
    "\n",
    "# Calculate chisquared for each of the two candidate authors\n",
    "for author in authors:\n",
    "   \n",
    "    # First, build a joint corpus and identify the 500 most frequent words in it\n",
    "    joint_corpus = (federalist_by_author_tokens[author] + \n",
    "                    federalist_by_author_tokens[\"Disputed\"])\n",
    "    joint_freq_dist = nltk.FreqDist(joint_corpus)\n",
    "    most_common = list(joint_freq_dist.most_common(500))\n",
    "\n",
    "    # What proportion of the joint corpus is made up \n",
    "    # of the candidate author's tokens?\n",
    "    author_share = (len(federalist_by_author_tokens[author]) \n",
    "                    / len(joint_corpus))\n",
    "    \n",
    "    # Now, let's look at the 500 most common words in the candidate \n",
    "    # author's corpus and compare the number of times they can be observed \n",
    "    # to what would be expected if the author's papers \n",
    "    # and the Disputed papers were both random samples from the same distribution.\n",
    "    chisquared = 0\n",
    "    for word,joint_count in most_common:\n",
    "        \n",
    "        # How often do we really see this common word?\n",
    "        author_count = federalist_by_author_tokens[author].count(word)\n",
    "        disputed_count = federalist_by_author_tokens[\"Disputed\"].count(word)\n",
    "        \n",
    "        # How often should we see it?\n",
    "        expected_author_count = joint_count * author_share\n",
    "        expected_disputed_count = joint_count * (1-author_share)\n",
    "        \n",
    "        # Add the word's contribution to the chi-squared statistic\n",
    "        chisquared += ((author_count-expected_author_count) * \n",
    "                       (author_count-expected_author_count) / \n",
    "                       expected_author_count)\n",
    "                    \n",
    "        chisquared += ((disputed_count-expected_disputed_count) *\n",
    "                       (disputed_count-expected_disputed_count) \n",
    "                       / expected_disputed_count)\n",
    "        \n",
    "    print(\"The Chi-squared statistic for candidate\", author, \"is\", chisquared)"
   ]
  },
  {
   "cell_type": "markdown",
   "metadata": {},
   "source": [
    "*RG -- this means that the disputed texts are more likely authored by Madison"
   ]
  },
  {
   "cell_type": "markdown",
   "metadata": {},
   "source": [
    "## Third Stylometric Test: John Burrows' Delta Method (Advanced)"
   ]
  },
  {
   "cell_type": "code",
   "execution_count": 9,
   "metadata": {},
   "outputs": [
    {
     "data": {
      "text/plain": [
       "[('the', 17745),\n",
       " ('of', 11795),\n",
       " ('to', 6999),\n",
       " ('and', 5012),\n",
       " ('in', 4383),\n",
       " ('a', 3957),\n",
       " ('be', 3770),\n",
       " ('that', 2739),\n",
       " ('it', 2492),\n",
       " ('is', 2177)]"
      ]
     },
     "execution_count": 9,
     "metadata": {},
     "output_type": "execute_result"
    }
   ],
   "source": [
    "# Who are we dealing with this time?\n",
    "authors = (\"Hamilton\", \"Madison\", \"Jay\", \"Disputed\", \"Shared\")\n",
    "\n",
    "# Combine every paper except our test case into a single corpus\n",
    "whole_corpus = []\n",
    "for author in authors:\n",
    "    whole_corpus += federalist_by_author_tokens[author]\n",
    "    \n",
    "# Get a frequency distribution\n",
    "whole_corpus_freq_dist = list(nltk.FreqDist(whole_corpus).most_common(30))\n",
    "whole_corpus_freq_dist[ :10 ]"
   ]
  },
  {
   "cell_type": "code",
   "execution_count": 10,
   "metadata": {},
   "outputs": [],
   "source": [
    "# The main data structure\n",
    "features = [word for word,freq in whole_corpus_freq_dist]\n",
    "feature_freqs = {}\n",
    "\n",
    "for author in authors:\n",
    "    # A dictionary for each candidate's features\n",
    "    feature_freqs[author] = {} \n",
    "    \n",
    "    # A helper value containing the number of tokens in the author's subcorpus\n",
    "    overall = len(federalist_by_author_tokens[author])\n",
    "    \n",
    "    # Calculate each feature's presence in the subcorpus\n",
    "    for feature in features:\n",
    "        presence = federalist_by_author_tokens[author].count(feature)\n",
    "        feature_freqs[author][feature] = presence / overall"
   ]
  },
  {
   "cell_type": "code",
   "execution_count": 11,
   "metadata": {},
   "outputs": [],
   "source": [
    "import math\n",
    "\n",
    "# The data structure into which we will be storing the \"corpus standard\" statistics\n",
    "corpus_features = {}\n",
    "\n",
    "# For each feature...\n",
    "for feature in features:\n",
    "    # Create a sub-dictionary that will contain the feature's mean \n",
    "    # and standard deviation\n",
    "    corpus_features[feature] = {}\n",
    "    \n",
    "    # Calculate the mean of the frequencies expressed in the subcorpora\n",
    "    feature_average = 0\n",
    "    for author in authors:\n",
    "        feature_average += feature_freqs[author][feature]\n",
    "    feature_average /= len(authors)\n",
    "    corpus_features[feature][\"Mean\"] = feature_average\n",
    "    \n",
    "    # Calculate the standard deviation using the basic formula for a sample\n",
    "    feature_stdev = 0\n",
    "    for author in authors:\n",
    "        diff = feature_freqs[author][feature] - corpus_features[feature][\"Mean\"]\n",
    "        feature_stdev += diff*diff\n",
    "    feature_stdev /= (len(authors) - 1)\n",
    "    feature_stdev = math.sqrt(feature_stdev)\n",
    "    corpus_features[feature][\"StdDev\"] = feature_stdev"
   ]
  },
  {
   "cell_type": "code",
   "execution_count": 12,
   "metadata": {},
   "outputs": [],
   "source": [
    "feature_zscores = {}\n",
    "for author in authors:\n",
    "    feature_zscores[author] = {}\n",
    "    for feature in features:\n",
    "        \n",
    "        # Z-score definition = (value - mean) / stddev\n",
    "        # We use intermediate variables to make the code easier to read\n",
    "        feature_val = feature_freqs[author][feature]\n",
    "        feature_mean = corpus_features[feature][\"Mean\"]\n",
    "        feature_stdev = corpus_features[feature][\"StdDev\"]\n",
    "        feature_zscores[author][feature] = ((feature_val-feature_mean) / \n",
    "                                            feature_stdev)"
   ]
  },
  {
   "cell_type": "code",
   "execution_count": 14,
   "metadata": {},
   "outputs": [
    {
     "name": "stdout",
     "output_type": "stream",
     "text": [
      "Test case z-score for feature the is -0.5905131029403456\n",
      "Test case z-score for feature of is -1.815053228501068\n",
      "Test case z-score for feature to is 1.080722357197572\n",
      "Test case z-score for feature and is 1.0546002678666273\n",
      "Test case z-score for feature in is 0.7425341727883432\n",
      "Test case z-score for feature a is -0.7962692057857793\n",
      "Test case z-score for feature be is 1.0279650702511498\n",
      "Test case z-score for feature that is 1.9604023041278147\n",
      "Test case z-score for feature it is 0.21265791060592468\n",
      "Test case z-score for feature is is -0.8792324482592065\n",
      "Test case z-score for feature which is -2.059010144513673\n",
      "Test case z-score for feature by is 1.2185982163454618\n",
      "Test case z-score for feature as is 4.556093784647465\n",
      "Test case z-score for feature this is -0.651311983665639\n",
      "Test case z-score for feature not is 0.8424621292127045\n",
      "Test case z-score for feature would is -0.8419452065894578\n",
      "Test case z-score for feature for is -0.84301315697513\n",
      "Test case z-score for feature have is 2.3422900648666367\n",
      "Test case z-score for feature will is 1.504662365589896\n",
      "Test case z-score for feature or is -0.24024581137684636\n",
      "Test case z-score for feature from is -0.5012009119505166\n",
      "Test case z-score for feature their is 0.8623445543648857\n",
      "Test case z-score for feature with is -0.04867218094628638\n",
      "Test case z-score for feature are is 7.827980222511478\n",
      "Test case z-score for feature on is -0.028883899479019082\n",
      "Test case z-score for feature an is -0.7141594856498873\n",
      "Test case z-score for feature they is 5.360237198048704\n",
      "Test case z-score for feature states is -0.7201541151578137\n",
      "Test case z-score for feature government is -2.043489634686769\n",
      "Test case z-score for feature may is 0.9954644116572955\n"
     ]
    }
   ],
   "source": [
    "# Tokenize the test case\n",
    "testcase_tokens = nltk.word_tokenize(federalist_by_author[\"TestCase\"])\n",
    "    \n",
    "# Filter out punctuation and lowercase the tokens\n",
    "testcase_tokens = [token.lower() for token in testcase_tokens \n",
    "                   if any(c.isalpha() for c in token)]\n",
    " \n",
    "# Calculate the test case's features\n",
    "overall = len(testcase_tokens)\n",
    "testcase_freqs = {}\n",
    "for feature in features:\n",
    "    presence = testcase_tokens.count(feature)\n",
    "    testcase_freqs[feature] = presence / overall\n",
    "    \n",
    "# Calculate the test case's feature z-scores\n",
    "testcase_zscores = {}\n",
    "for feature in features:\n",
    "    feature_val = testcase_freqs[feature]\n",
    "    feature_mean = corpus_features[feature][\"Mean\"]\n",
    "    feature_stdev = corpus_features[feature][\"StdDev\"]\n",
    "    testcase_zscores[feature] = (feature_val - feature_mean) / feature_stdev\n",
    "    print(\"Test case z-score for feature\", feature, \"is\", testcase_zscores[feature])"
   ]
  },
  {
   "cell_type": "code",
   "execution_count": 15,
   "metadata": {},
   "outputs": [
    {
     "name": "stdout",
     "output_type": "stream",
     "text": [
      "Delta score for candidate Hamilton is 1.7560432408322548\n",
      "Delta score for candidate Madison is 1.5981882978381434\n",
      "Delta score for candidate Jay is 1.5159420162682575\n",
      "Delta score for candidate Disputed is 1.535744690035478\n",
      "Delta score for candidate Shared is 1.9064655212964878\n"
     ]
    }
   ],
   "source": [
    "for author in authors:\n",
    "    delta = 0\n",
    "    for feature in features:\n",
    "        delta += math.fabs((testcase_zscores[feature] - \n",
    "                            feature_zscores[author][feature]))\n",
    "    delta /= len(features)\n",
    "    print( \"Delta score for candidate\", author, \"is\", delta )"
   ]
  },
  {
   "cell_type": "code",
   "execution_count": null,
   "metadata": {},
   "outputs": [],
   "source": []
  },
  {
   "cell_type": "markdown",
   "metadata": {},
   "source": [
    "## Conclusions and Further Reading and Resources"
   ]
  },
  {
   "cell_type": "markdown",
   "metadata": {},
   "source": [
    "Consider one of the \"Interesting case studies\" at the end of the lesson. What are the opportunities / stakes that authorship attribution raises in each case? Are there cases when authorship attribution may not make sense to do? Are there ethical implications? How might/could authorship attribution participate in cultural or archival recovery projects? "
   ]
  },
  {
   "cell_type": "code",
   "execution_count": null,
   "metadata": {
    "collapsed": true
   },
   "outputs": [],
   "source": []
  }
 ],
 "metadata": {
  "kernelspec": {
   "display_name": "Python 3",
   "language": "python",
   "name": "python3"
  },
  "language_info": {
   "codemirror_mode": {
    "name": "ipython",
    "version": 3
   },
   "file_extension": ".py",
   "mimetype": "text/x-python",
   "name": "python",
   "nbconvert_exporter": "python",
   "pygments_lexer": "ipython3",
   "version": "3.7.1"
  }
 },
 "nbformat": 4,
 "nbformat_minor": 2
}
